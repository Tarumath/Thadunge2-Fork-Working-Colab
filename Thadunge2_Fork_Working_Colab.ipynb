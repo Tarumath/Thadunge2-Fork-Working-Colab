{
  "nbformat": 4,
  "nbformat_minor": 0,
  "metadata": {
    "colab": {
      "name": "Thadunge2 Fork Working Colab.ipynb",
      "provenance": [],
      "collapsed_sections": [],
      "include_colab_link": true
    },
    "kernelspec": {
      "name": "python3",
      "display_name": "Python 3"
    },
    "accelerator": "GPU"
  },
  "cells": [
    {
      "cell_type": "markdown",
      "metadata": {
        "id": "view-in-github",
        "colab_type": "text"
      },
      "source": [
        "<a href=\"https://colab.research.google.com/github/Tarumath/Thadunge2-Fork-Working-Colab/blob/master/Thadunge2_Fork_Working_Colab.ipynb\" target=\"_parent\"><img src=\"https://colab.research.google.com/assets/colab-badge.svg\" alt=\"Open In Colab\"/></a>"
      ]
    },
    {
      "cell_type": "markdown",
      "metadata": {
        "id": "7dRi_BDWErNf",
        "colab_type": "text"
      },
      "source": [
        "# AI Dungeon 2 Thadunge2 Fork Working Colab\n",
        "\n",
        "![BYU PCCL](https://pcc4318.files.wordpress.com/2018/02/asset-1.png?w=277)\n",
        "\n",
        "Sponsored by the [BYU PCCL Lab](https://pcc.cs.byu.edu/).\n",
        "\n",
        "### <a href=\"https://twitter.com/nickwalton00?ref_src=twsrc%5Etfw\" class=\"twitter-follow-button\" data-show-count=\"false\">Follow @nickwalton00</a> on twitter for updates.\n",
        "\n",
        "## About\n",
        "* While you wait you can [read adventures others have had](https://aidungeon.io/)\n",
        "* [Read more](https://pcc.cs.byu.edu/2019/11/21/ai-dungeon-2-creating-infinitely-generated-text-adventures-with-deep-learning-language-models/) about how AI Dungeon 2 is made.\n",
        "\n",
        "* Please [support AI Dungeon 2](https://www.patreon.com/join/AIDungeon/) to help get it back up."
      ]
    },
    {
      "cell_type": "markdown",
      "metadata": {
        "id": "xn0bEX3R8IMC",
        "colab_type": "text"
      },
      "source": [
        "# Main mirrors of AI Dungeon 2 are currently down due to high download costs.\n",
        "We are using bittorrent as a temporary solution to host game files and keep this game alive. It's not fast, but it's the best we've got right now.\n",
        "\n",
        "If you want to help, best thing you can do is to **[download this torrent file with game files](https://github.com/nickwalton/AIDungeon/files/3935881/model_v5.torrent.zip)** and **seed it** indefinitely to the best of your ability. This will help new players download this game faster, and discover the vast worlds of AIDungeon2!\n",
        "\n",
        "Here's the code to get it to run with torrenting:"
      ]
    },
    {
      "cell_type": "code",
      "metadata": {
        "id": "ZzWuh7dC87-j",
        "colab_type": "code",
        "outputId": "86a4e597-9966-41d1-810b-306d13641d86",
        "colab": {
          "base_uri": "https://localhost:8080/",
          "height": 35
        }
      },
      "source": [
        "!git clone --branch master https://github.com/thadunge2/AIDungeon\n",
        "%cd AIDungeon\n",
        "!chmod 777 install.sh\n",
        "!sed -i -e 's/\\r$//' install.sh\n",
        "!./install.sh\n",
        "from IPython.display import clear_output \n",
        "clear_output()\n",
        "print(\"Download Complete!\")"
      ],
      "execution_count": 0,
      "outputs": [
        {
          "output_type": "stream",
          "text": [
            "Download Complete!\n"
          ],
          "name": "stdout"
        }
      ]
    },
    {
      "cell_type": "markdown",
      "metadata": {
        "id": "IDhSolC09LLP",
        "colab_type": "text"
      },
      "source": [
        "Now, run this to play the game:"
      ]
    },
    {
      "cell_type": "code",
      "metadata": {
        "id": "-Lz_r-eJ9Klc",
        "colab_type": "code",
        "outputId": "dfbf88d8-3fce-4118-cb50-e1efc3457438",
        "colab": {
          "base_uri": "https://localhost:8080/",
          "height": 1330
        }
      },
      "source": [
        "from IPython.display import Javascript\n",
        "display(Javascript('''google.colab.output.setIframeHeight(0, true, {maxHeight: 5000})'''))\n",
        "!python play.py"
      ],
      "execution_count": 0,
      "outputs": [
        {
          "output_type": "display_data",
          "data": {
            "application/javascript": [
              "google.colab.output.setIframeHeight(0, true, {maxHeight: 5000})"
            ],
            "text/plain": [
              "<IPython.core.display.Javascript object>"
            ]
          },
          "metadata": {
            "tags": []
          }
        },
        {
          "output_type": "stream",
          "text": [
            "AI Dungeon 2 will save and use your actions and game to continually improve AI\n",
            " Dungeon. If you would like to disable this enter 'nosaving' for any action.\n",
            " This will also turn off the ability to save games.\n",
            "\n",
            "Initializing AI Dungeon! (This might take a few minutes)\n",
            "\n",
            "\n",
            "\n",
            "\n",
            " ▄▄▄       ██▓   ▓█████▄  █    ██  ███▄    █   ▄████ ▓█████  ▒█████   ███▄    █    \n",
            "▒████▄    ▓██▒   ▒██▀ ██▌ ██  ▓██▒ ██ ▀█   █  ██▒ ▀█▒▓█   ▀ ▒██▒  ██▒ ██ ▀█   █    \n",
            "▒██  ▀█▄  ▒██▒   ░██   █▌▓██  ▒██░▓██  ▀█ ██▒▒██░▄▄▄░▒███   ▒██░  ██▒▓██  ▀█ ██▒   \n",
            "░██▄▄▄▄██ ░██░   ░▓█▄   ▌▓▓█  ░██░▓██▒  ▐▌██▒░▓█  ██▓▒▓█  ▄ ▒██   ██░▓██▒  ▐▌██▒   \n",
            " ▓█   ▓██▒░██░   ░▒████▓ ▒▒█████▓ ▒██░   ▓██░░▒▓███▀▒░▒████▒░ ████▓▒░▒██░   ▓██░   \n",
            " ▒▒   ▓▒█░░▓      ▒▒▓  ▒ ░▒▓▒ ▒ ▒ ░ ▒░   ▒ ▒  ░▒   ▒ ░░ ▒░ ░░ ▒░▒░▒░ ░ ▒░   ▒ ▒    \n",
            "  ▒   ▒▒ ░ ▒ ░    ░ ▒  ▒ ░░▒░ ░ ░ ░ ░░   ░ ▒░  ░   ░  ░ ░  ░  ░ ▒ ▒░ ░ ░░   ░ ▒░   \n",
            "  ░   ▒    ▒ ░    ░ ░  ░  ░░░ ░ ░    ░   ░ ░ ░ ░   ░    ░   ░ ░ ░ ▒     ░   ░ ░    \n",
            "      ░  ░ ░        ░       ░              ░       ░    ░  ░    ░ ░           ░    \n",
            "                  ░                                                                \n",
            "\n",
            "\n",
            "\n",
            "\n",
            "0) New Game\n",
            "1) Load Game\n",
            "\n",
            "Enter the number of your choice: 0\n",
            "\n",
            "\n",
            "\n",
            "Pick a setting.\n",
            "0) fantasy (recommended)\n",
            "1) mystery\n",
            "2) apocalyptic\n",
            "3) zombies\n",
            "4) custom\n",
            "Enter the number of your choice: 4\n",
            "\n",
            "Enter a prompt that describes who you are and the first couple sentences of where\n",
            " you start out ex:\n",
            " 'You are a knight in the kingdom of Larion. You are hunting the evil dragon\n",
            " who has been terrorizing the kingdom. You enter the forest searching for the\n",
            " dragon and see' \n",
            "Starting Prompt: You are a dragon\n",
            "\n",
            "AI Dungeon 2 Instructions:\n",
            " Enter actions starting with a verb ex. \"go to the tavern\" or \"attack the orc.\"\n",
            " To speak enter 'say \"(thing you want to say)\"' or just \"(thing you want to say)\"\n",
            " \n",
            "\n",
            "The following commands can be entered for any action: \n",
            "  \"revert\"   Reverts the last action allowing you to pick a different action.\n",
            "  \"retry\"    Reverts the last action and tries again with the same action.\n",
            "  \"quit\"     Quits the game and saves\n",
            "  \"restart\"  Starts a new game and saves your current one\n",
            "  \"save\"     Makes a new save of your game and gives you the save ID\n",
            "  \"load\"     Asks for a save ID and loads the game if the ID is valid\n",
            "  \"print\"    Prints a transcript of your adventure (without extra newline formatting)\n",
            "  \"help\"     Prints these instructions again\n",
            "  \"censor off/on\" to turn censoring off or on.\n",
            "  \"ping off/on\" to turn playing a ping sound when the AI responds off or on.\n",
            " (not compatible with Colab)\n",
            "  \"infto ##\" to set a timeout for the AI to respond.\n",
            "  \"temp #\"   Changes the AI's temperature (higher temperature = less focused).\n",
            " Default is 4.\n",
            "  \"remember XXX\" to commit something important to the AI's memory for that session.\n",
            "\n",
            "Generating story...\n",
            "\n",
            "\n",
            "You are a dragon. You have been for quite some time now, and you're not going\n",
            " to stop any time soon.\n",
            "You roar at the sky as you fly over the battlefield. The battle is fierce here,\n",
            " but it's also very personal\n",
            "> "
          ],
          "name": "stdout"
        }
      ]
    },
    {
      "cell_type": "markdown",
      "metadata": {
        "id": "s8JwIpZhqxJa",
        "colab_type": "text"
      },
      "source": [
        "If you get an OOM (out of memory error, random crashes) you might want to increase the available RAM. To do this, run the code below. Wait until it crashes and a little message pops up asking if you'd like to increase the available memory. Say yes and run the game.\n",
        "\n",
        "Credit goes to [bpseudopod](https://www.reddit.com/user/bpseudopod/) for figuring this out. View the post where that happened here: [https://www.reddit.com/r/AIDungeon/comments/e782oi/tips_for_crash_prevention/](https://www.reddit.com/r/AIDungeon/comments/e782oi/tips_for_crash_prevention/)"
      ]
    },
    {
      "cell_type": "code",
      "metadata": {
        "id": "Zb8MBT52sIHn",
        "colab_type": "code",
        "colab": {}
      },
      "source": [
        "d = []\n",
        "while True:\n",
        "    d.append(1)"
      ],
      "execution_count": 0,
      "outputs": []
    }
  ]
}